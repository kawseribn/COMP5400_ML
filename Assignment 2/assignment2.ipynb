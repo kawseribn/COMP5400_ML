{
 "cells": [
  {
   "cell_type": "code",
   "execution_count": 17,
   "metadata": {},
   "outputs": [],
   "source": [
    "from math import radians, sin, cos, acos\n",
    "def read_csv(filepath):\n",
    "    with open(filepath, 'r') as file:\n",
    "        lines = file.readlines()\n",
    "        header = lines[0].strip().split(',')\n",
    "        data = []\n",
    "        for line in lines[1:]:\n",
    "            values = line.strip().split(',')\n",
    "            entry = dict(zip(header, values))\n",
    "            entry['Magnitude'] = float(entry['Magnitude'])\n",
    "            data.append(entry)\n",
    "    return data\n",
    "\n",
    "\n",
    "earthquake_data = read_csv('./Homework3Data.csv')\n",
    "\n",
    "sorted_data = sorted(earthquake_data, key=lambda x: x['Magnitude'], reverse=True)\n",
    "top_10_eq = sorted_data[:10]\n"
   ]
  },
  {
   "cell_type": "code",
   "execution_count": 19,
   "metadata": {},
   "outputs": [
    {
     "data": {
      "text/plain": [
       "'./top10-worst.txt'"
      ]
     },
     "execution_count": 19,
     "metadata": {},
     "output_type": "execute_result"
    }
   ],
   "source": [
    "top_10_worst_eq = './top10-worst.txt'\n",
    "with open(top_10_worst_eq, 'w') as file:\n",
    "    for earthquake in top_10_eq:\n",
    "        file.write(f\"{earthquake['Date']},{earthquake['Time']},{earthquake['Latitude']},\"\n",
    "                   f\"{earthquake['Longitude']},{earthquake['Depth']},{earthquake['Magnitude']}\\n\")\n",
    "\n",
    "top_10_worst_eq\n"
   ]
  },
  {
   "cell_type": "code",
   "execution_count": 20,
   "metadata": {},
   "outputs": [
    {
     "data": {
      "text/plain": [
       "'./dist-to-TSU.txt'"
      ]
     },
     "execution_count": 20,
     "metadata": {},
     "output_type": "execute_result"
    }
   ],
   "source": [
    "from math import acos, sin, cos, pi\n",
    "\n",
    "def degrees_to_radians(deg):\n",
    "    return deg * (pi / 180.0)\n",
    "\n",
    "# TSU's latitude and longitude in radians\n",
    "tsu_coords = degrees_to_radians(36.16963449238665), degrees_to_radians(-86.82562299320742)\n",
    "\n",
    "def calculate_distance(lat1, lon1, lat2, lon2):\n",
    "    earth_rad = 6371 \n",
    "    return acos(sin(lat1) * sin(lat2) + cos(lat1) * cos(lat2) * cos(lon2 - lon1)) * earth_rad\n",
    "\n",
    "# Calculate the distances for each of the top 10 earthquakes\n",
    "top_10_distances = [\n",
    "    calculate_distance(tsu_coords[0], tsu_coords[1], degrees_to_radians(float(eq['Latitude'])), degrees_to_radians(float(eq['Longitude'])))\n",
    "    for eq in top_10_eq\n",
    "]\n",
    "\n",
    "# Save the distances to a file\n",
    "dist_to_tsu_file_path = './dist-to-TSU.txt'\n",
    "with open(dist_to_tsu_file_path, 'w') as f:\n",
    "    for distance in top_10_distances:\n",
    "        f.write(f\"{distance}\\n\")\n",
    "\n",
    "dist_to_tsu_file_path\n"
   ]
  },
  {
   "cell_type": "code",
   "execution_count": null,
   "metadata": {},
   "outputs": [],
   "source": []
  }
 ],
 "metadata": {
  "kernelspec": {
   "display_name": "Python 3",
   "language": "python",
   "name": "python3"
  },
  "language_info": {
   "codemirror_mode": {
    "name": "ipython",
    "version": 3
   },
   "file_extension": ".py",
   "mimetype": "text/x-python",
   "name": "python",
   "nbconvert_exporter": "python",
   "pygments_lexer": "ipython3",
   "version": "3.7.12"
  },
  "orig_nbformat": 4
 },
 "nbformat": 4,
 "nbformat_minor": 2
}
